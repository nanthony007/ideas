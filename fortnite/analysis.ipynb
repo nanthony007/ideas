{
 "cells": [
  {
   "cell_type": "code",
   "execution_count": 1,
   "id": "resident-slope",
   "metadata": {
    "ExecuteTime": {
     "end_time": "2021-02-18T17:36:15.123291Z",
     "start_time": "2021-02-18T17:36:14.714239Z"
    }
   },
   "outputs": [],
   "source": [
    "from rich import pretty, print\n",
    "from rich.progress import track\n",
    "import time\n",
    "import pandas as pd\n",
    "from dataclasses import dataclass\n",
    "from rich.progress import track"
   ]
  },
  {
   "cell_type": "code",
   "execution_count": 2,
   "id": "foreign-shareware",
   "metadata": {
    "ExecuteTime": {
     "end_time": "2021-02-18T17:36:16.270850Z",
     "start_time": "2021-02-18T17:36:16.223532Z"
    }
   },
   "outputs": [
    {
     "data": {
      "text/html": [
       "<pre style=\"white-space:pre;overflow-x:auto;line-height:normal;font-family:Menlo,'DejaVu Sans Mono',consolas,'Courier New',monospace\"><span style=\"font-weight: bold\">(</span><span style=\"color: #000080; font-weight: bold\">11582</span>, <span style=\"color: #000080; font-weight: bold\">8</span><span style=\"font-weight: bold\">)</span>\n",
       "</pre>\n"
      ],
      "text/plain": [
       "<rich.jupyter.JupyterRenderable at 0x7fab902091f0>"
      ]
     },
     "metadata": {},
     "output_type": "display_data"
    }
   ],
   "source": [
    "df = pd.read_csv('teams.csv')\n",
    "print(df.shape)\n",
    "df.columns = ['stage', 'players', 'round_placement', 'points', 'matches', 'wins', 'avg_elims', 'avg_place']"
   ]
  },
  {
   "cell_type": "code",
   "execution_count": 4,
   "id": "prompt-liquid",
   "metadata": {
    "ExecuteTime": {
     "end_time": "2021-02-18T17:37:53.521647Z",
     "start_time": "2021-02-18T17:37:53.516413Z"
    }
   },
   "outputs": [
    {
     "data": {
      "text/plain": [
       "'A'"
      ]
     },
     "execution_count": 4,
     "metadata": {},
     "output_type": "execute_result"
    }
   ],
   "source": [
    "x = 'a' if 0 < 5 else 12"
   ]
  },
  {
   "cell_type": "code",
   "execution_count": 6,
   "id": "noticed-channel",
   "metadata": {
    "ExecuteTime": {
     "end_time": "2021-02-18T17:38:10.149846Z",
     "start_time": "2021-02-18T17:38:10.144627Z"
    }
   },
   "outputs": [
    {
     "data": {
      "text/plain": [
       "False"
      ]
     },
     "execution_count": 6,
     "metadata": {},
     "output_type": "execute_result"
    }
   ],
   "source": [
    "x.startswith('as')"
   ]
  },
  {
   "cell_type": "code",
   "execution_count": 3,
   "id": "broken-holiday",
   "metadata": {
    "ExecuteTime": {
     "end_time": "2021-02-16T14:14:43.158493Z",
     "start_time": "2021-02-16T14:14:43.141929Z"
    },
    "scrolled": true
   },
   "outputs": [
    {
     "data": {
      "text/html": [
       "<div>\n",
       "<style scoped>\n",
       "    .dataframe tbody tr th:only-of-type {\n",
       "        vertical-align: middle;\n",
       "    }\n",
       "\n",
       "    .dataframe tbody tr th {\n",
       "        vertical-align: top;\n",
       "    }\n",
       "\n",
       "    .dataframe thead th {\n",
       "        text-align: right;\n",
       "    }\n",
       "</style>\n",
       "<table border=\"1\" class=\"dataframe\">\n",
       "  <thead>\n",
       "    <tr style=\"text-align: right;\">\n",
       "      <th></th>\n",
       "      <th>stage</th>\n",
       "      <th>players</th>\n",
       "      <th>round_placement</th>\n",
       "      <th>points</th>\n",
       "      <th>matches</th>\n",
       "      <th>wins</th>\n",
       "      <th>avg_elims</th>\n",
       "      <th>avg_place</th>\n",
       "    </tr>\n",
       "  </thead>\n",
       "  <tbody>\n",
       "    <tr>\n",
       "      <th>0</th>\n",
       "      <td>Round1</td>\n",
       "      <td>bbg permreo, XTRA Illest, C9 Avery</td>\n",
       "      <td>1</td>\n",
       "      <td>243</td>\n",
       "      <td>8</td>\n",
       "      <td>3</td>\n",
       "      <td>14.13</td>\n",
       "      <td>5.88</td>\n",
       "    </tr>\n",
       "    <tr>\n",
       "      <th>1</th>\n",
       "      <td>Round1</td>\n",
       "      <td>Cоmmandment, LOWGROUND KING7, NRG Edgey</td>\n",
       "      <td>2</td>\n",
       "      <td>239</td>\n",
       "      <td>8</td>\n",
       "      <td>4</td>\n",
       "      <td>11.88</td>\n",
       "      <td>5.88</td>\n",
       "    </tr>\n",
       "    <tr>\n",
       "      <th>2</th>\n",
       "      <td>Round1</td>\n",
       "      <td>Zûky, fаtch, chukky ackerman</td>\n",
       "      <td>3</td>\n",
       "      <td>216</td>\n",
       "      <td>8</td>\n",
       "      <td>2</td>\n",
       "      <td>10.25</td>\n",
       "      <td>4.25</td>\n",
       "    </tr>\n",
       "    <tr>\n",
       "      <th>3</th>\n",
       "      <td>Round1</td>\n",
       "      <td>SEN VALENSPECT, LG Xoonies., npen</td>\n",
       "      <td>4</td>\n",
       "      <td>203</td>\n",
       "      <td>9</td>\n",
       "      <td>3</td>\n",
       "      <td>11.33</td>\n",
       "      <td>9.89</td>\n",
       "    </tr>\n",
       "    <tr>\n",
       "      <th>4</th>\n",
       "      <td>Round1</td>\n",
       "      <td>AKA Avivv, Trаshу, DT Rise</td>\n",
       "      <td>5</td>\n",
       "      <td>200</td>\n",
       "      <td>8</td>\n",
       "      <td>2</td>\n",
       "      <td>10.00</td>\n",
       "      <td>7.50</td>\n",
       "    </tr>\n",
       "  </tbody>\n",
       "</table>\n",
       "</div>"
      ],
      "text/plain": [
       "    stage                                  players  round_placement  points  \\\n",
       "0  Round1       bbg permreo, XTRA Illest, C9 Avery                1     243   \n",
       "1  Round1  Cоmmandment, LOWGROUND KING7, NRG Edgey                2     239   \n",
       "2  Round1             Zûky, fаtch, chukky ackerman                3     216   \n",
       "3  Round1        SEN VALENSPECT, LG Xoonies., npen                4     203   \n",
       "4  Round1               AKA Avivv, Trаshу, DT Rise                5     200   \n",
       "\n",
       "   matches  wins  avg_elims  avg_place  \n",
       "0        8     3      14.13       5.88  \n",
       "1        8     4      11.88       5.88  \n",
       "2        8     2      10.25       4.25  \n",
       "3        9     3      11.33       9.89  \n",
       "4        8     2      10.00       7.50  "
      ]
     },
     "execution_count": 3,
     "metadata": {},
     "output_type": "execute_result"
    }
   ],
   "source": [
    "df.head()"
   ]
  },
  {
   "cell_type": "code",
   "execution_count": null,
   "id": "cooked-sacrifice",
   "metadata": {},
   "outputs": [],
   "source": [
    "@dataclass\n",
    "class PointThresholds:\n",
    "    stage1: "
   ]
  },
  {
   "cell_type": "code",
   "execution_count": 23,
   "id": "circular-talent",
   "metadata": {
    "ExecuteTime": {
     "end_time": "2021-02-16T14:34:41.992866Z",
     "start_time": "2021-02-16T14:34:41.981438Z"
    }
   },
   "outputs": [],
   "source": [
    "stages = [\n",
    "    {\n",
    "        'stage1': {\n",
    "            'top10': {\n",
    "                'high': None,\n",
    "                'low': None,\n",
    "            },\n",
    "            'top33': {\n",
    "                'high': None,\n",
    "                'low': None,\n",
    "            },\n",
    "            'top250': {\n",
    "                'high': None,\n",
    "                'low': None,\n",
    "            },\n",
    "        },\n",
    "        'stage2': {\n",
    "            'top10': {\n",
    "                'high': None,\n",
    "                'low': None,\n",
    "            },\n",
    "            'top33': {\n",
    "                'high': None,\n",
    "                'low': None,\n",
    "            },\n",
    "            'top250': {\n",
    "                'high': None,\n",
    "                'low': None,\n",
    "            },\n",
    "        },\n",
    "        'stage3': {\n",
    "            'top10': {\n",
    "                'high': None,\n",
    "                'low': None,\n",
    "            },\n",
    "            'top33': {\n",
    "                'high': None,\n",
    "                'low': None,\n",
    "            },\n",
    "            'top250': {\n",
    "                'high': None,\n",
    "                'low': None,\n",
    "            },\n",
    "        },\n",
    "        'stage4': {\n",
    "            'top10': {\n",
    "                'high': None,\n",
    "                'low': None,\n",
    "            },\n",
    "            'top33': {\n",
    "                'high': None,\n",
    "                'low': None,\n",
    "            },\n",
    "            'top250': {\n",
    "                'high': None,\n",
    "                'low': None,\n",
    "            },\n",
    "        }\n",
    "    }\n",
    "]"
   ]
  },
  {
   "cell_type": "code",
   "execution_count": null,
   "id": "informal-cattle",
   "metadata": {},
   "outputs": [],
   "source": [
    "for"
   ]
  },
  {
   "cell_type": "code",
   "execution_count": 5,
   "id": "armed-mortgage",
   "metadata": {
    "ExecuteTime": {
     "end_time": "2021-02-16T14:14:43.613189Z",
     "start_time": "2021-02-16T14:14:43.594951Z"
    }
   },
   "outputs": [
    {
     "data": {
      "text/html": [
       "<div>\n",
       "<style scoped>\n",
       "    .dataframe tbody tr th:only-of-type {\n",
       "        vertical-align: middle;\n",
       "    }\n",
       "\n",
       "    .dataframe tbody tr th {\n",
       "        vertical-align: top;\n",
       "    }\n",
       "\n",
       "    .dataframe thead th {\n",
       "        text-align: right;\n",
       "    }\n",
       "</style>\n",
       "<table border=\"1\" class=\"dataframe\">\n",
       "  <thead>\n",
       "    <tr style=\"text-align: right;\">\n",
       "      <th></th>\n",
       "      <th>stage</th>\n",
       "      <th>players</th>\n",
       "      <th>round_placement</th>\n",
       "      <th>points</th>\n",
       "      <th>matches</th>\n",
       "      <th>wins</th>\n",
       "      <th>avg_elims</th>\n",
       "      <th>avg_place</th>\n",
       "    </tr>\n",
       "  </thead>\n",
       "  <tbody>\n",
       "  </tbody>\n",
       "</table>\n",
       "</div>"
      ],
      "text/plain": [
       "Empty DataFrame\n",
       "Columns: [stage, players, round_placement, points, matches, wins, avg_elims, avg_place]\n",
       "Index: []"
      ]
     },
     "execution_count": 5,
     "metadata": {},
     "output_type": "execute_result"
    }
   ],
   "source": [
    "marginal = pd.DataFrame(columns=df.columns)\n",
    "marginal"
   ]
  },
  {
   "cell_type": "code",
   "execution_count": 6,
   "id": "thrown-laundry",
   "metadata": {
    "ExecuteTime": {
     "end_time": "2021-02-16T14:14:45.027018Z",
     "start_time": "2021-02-16T14:14:44.960719Z"
    },
    "scrolled": true
   },
   "outputs": [
    {
     "data": {
      "text/html": [
       "<pre style=\"white-space:pre;overflow-x:auto;line-height:normal;font-family:Menlo,'DejaVu Sans Mono',consolas,'Courier New',monospace\"><span style=\"color: #000080; font-weight: bold\">1356</span> within <span style=\"color: #000080; font-weight: bold\">5</span>%, out of <span style=\"color: #000080; font-weight: bold\">9900</span>\n",
       "</pre>\n"
      ],
      "text/plain": [
       "<rich.jupyter.JupyterRenderable at 0x7fb92a59beb0>"
      ]
     },
     "metadata": {},
     "output_type": "display_data"
    },
    {
     "data": {
      "text/html": [
       "<pre style=\"white-space:pre;overflow-x:auto;line-height:normal;font-family:Menlo,'DejaVu Sans Mono',consolas,'Courier New',monospace\">OR, <span style=\"color: #000080; font-weight: bold\">13.7</span>%\n",
       "</pre>\n"
      ],
      "text/plain": [
       "<rich.jupyter.JupyterRenderable at 0x7fb92a59bb80>"
      ]
     },
     "metadata": {},
     "output_type": "display_data"
    },
    {
     "data": {
      "text/html": [
       "<pre style=\"white-space:pre;overflow-x:auto;line-height:normal;font-family:Menlo,'DejaVu Sans Mono',consolas,'Courier New',monospace\"><span style=\"color: #000080; font-weight: bold\">157</span> within <span style=\"color: #000080; font-weight: bold\">5</span>%, out of <span style=\"color: #000080; font-weight: bold\">1400</span>\n",
       "</pre>\n"
      ],
      "text/plain": [
       "<rich.jupyter.JupyterRenderable at 0x7fb918569be0>"
      ]
     },
     "metadata": {},
     "output_type": "display_data"
    },
    {
     "data": {
      "text/html": [
       "<pre style=\"white-space:pre;overflow-x:auto;line-height:normal;font-family:Menlo,'DejaVu Sans Mono',consolas,'Courier New',monospace\">OR, <span style=\"color: #000080; font-weight: bold\">11.21</span>%\n",
       "</pre>\n"
      ],
      "text/plain": [
       "<rich.jupyter.JupyterRenderable at 0x7fb92a59b160>"
      ]
     },
     "metadata": {},
     "output_type": "display_data"
    },
    {
     "data": {
      "text/html": [
       "<pre style=\"white-space:pre;overflow-x:auto;line-height:normal;font-family:Menlo,'DejaVu Sans Mono',consolas,'Courier New',monospace\"><span style=\"color: #000080; font-weight: bold\">21</span> within <span style=\"color: #000080; font-weight: bold\">5</span>%, out of <span style=\"color: #000080; font-weight: bold\">249</span>\n",
       "</pre>\n"
      ],
      "text/plain": [
       "<rich.jupyter.JupyterRenderable at 0x7fb92a59beb0>"
      ]
     },
     "metadata": {},
     "output_type": "display_data"
    },
    {
     "data": {
      "text/html": [
       "<pre style=\"white-space:pre;overflow-x:auto;line-height:normal;font-family:Menlo,'DejaVu Sans Mono',consolas,'Courier New',monospace\">OR, <span style=\"color: #000080; font-weight: bold\">8.43</span>%\n",
       "</pre>\n"
      ],
      "text/plain": [
       "<rich.jupyter.JupyterRenderable at 0x7fb92a59b220>"
      ]
     },
     "metadata": {},
     "output_type": "display_data"
    },
    {
     "data": {
      "text/html": [
       "<pre style=\"white-space:pre;overflow-x:auto;line-height:normal;font-family:Menlo,'DejaVu Sans Mono',consolas,'Courier New',monospace\"><span style=\"color: #000080; font-weight: bold\">3</span> within <span style=\"color: #000080; font-weight: bold\">5</span>%, out of <span style=\"color: #000080; font-weight: bold\">33</span>\n",
       "</pre>\n"
      ],
      "text/plain": [
       "<rich.jupyter.JupyterRenderable at 0x7fb92a59b940>"
      ]
     },
     "metadata": {},
     "output_type": "display_data"
    },
    {
     "data": {
      "text/html": [
       "<pre style=\"white-space:pre;overflow-x:auto;line-height:normal;font-family:Menlo,'DejaVu Sans Mono',consolas,'Courier New',monospace\">OR, <span style=\"color: #000080; font-weight: bold\">9.09</span>%\n",
       "</pre>\n"
      ],
      "text/plain": [
       "<rich.jupyter.JupyterRenderable at 0x7fb8c8010820>"
      ]
     },
     "metadata": {},
     "output_type": "display_data"
    }
   ],
   "source": [
    "# check marginal teams\n",
    "margins = dict()\n",
    "for stage in stages:\n",
    "    threshold = df[(df.stage == stage.get('name')) & (df.round_placement == stage.get('placements'))]\n",
    "    top = threshold.points.values[0] + (threshold.points.values[0] * 0.05)\n",
    "    bottom = threshold.points.values[0] - (threshold.points.values[0] * 0.05)\n",
    "    \n",
    "    within = df[(df.points > bottom) & (df.points < top) & (df.stage == stage.get('name'))]\n",
    "    \n",
    "    print(f\"{within.shape[0]} within 5%, out of {len(df[df.stage == stage.get('name')])}\")\n",
    "    print(f\"OR, {round(100 * (within.shape[0] / len(df[df.stage == stage.get('name')])), 2)}%\")\n",
    "    \n",
    "    # do stuff with 'within'\n",
    "    margins[stage.get('name')] = threshold.points.values[0]\n",
    "    marginal = pd.concat([marginal, within])"
   ]
  },
  {
   "cell_type": "code",
   "execution_count": 7,
   "id": "turkish-astronomy",
   "metadata": {
    "ExecuteTime": {
     "end_time": "2021-02-16T14:14:45.736929Z",
     "start_time": "2021-02-16T14:14:45.731637Z"
    }
   },
   "outputs": [
    {
     "data": {
      "text/plain": [
       "{'Round1': 121, 'Round2': 103, 'Round3': 112, 'Round4': 73}"
      ]
     },
     "execution_count": 7,
     "metadata": {},
     "output_type": "execute_result"
    }
   ],
   "source": [
    "margins"
   ]
  },
  {
   "cell_type": "code",
   "execution_count": 8,
   "id": "prescribed-sword",
   "metadata": {
    "ExecuteTime": {
     "end_time": "2021-02-16T14:14:46.673560Z",
     "start_time": "2021-02-16T14:14:46.645237Z"
    },
    "scrolled": false
   },
   "outputs": [
    {
     "data": {
      "text/html": [
       "<div>\n",
       "<style scoped>\n",
       "    .dataframe tbody tr th:only-of-type {\n",
       "        vertical-align: middle;\n",
       "    }\n",
       "\n",
       "    .dataframe tbody tr th {\n",
       "        vertical-align: top;\n",
       "    }\n",
       "\n",
       "    .dataframe thead th {\n",
       "        text-align: right;\n",
       "    }\n",
       "</style>\n",
       "<table border=\"1\" class=\"dataframe\">\n",
       "  <thead>\n",
       "    <tr style=\"text-align: right;\">\n",
       "      <th></th>\n",
       "      <th>stage</th>\n",
       "      <th>players</th>\n",
       "      <th>round_placement</th>\n",
       "      <th>points</th>\n",
       "      <th>matches</th>\n",
       "      <th>wins</th>\n",
       "      <th>avg_elims</th>\n",
       "      <th>avg_place</th>\n",
       "    </tr>\n",
       "  </thead>\n",
       "  <tbody>\n",
       "    <tr>\n",
       "      <th>1003</th>\n",
       "      <td>Round1</td>\n",
       "      <td>Twitch AyisFN, TwitchSummerzzFN, boasterrr</td>\n",
       "      <td>1004</td>\n",
       "      <td>127</td>\n",
       "      <td>8</td>\n",
       "      <td>2</td>\n",
       "      <td>8.88</td>\n",
       "      <td>16.63</td>\n",
       "    </tr>\n",
       "    <tr>\n",
       "      <th>1004</th>\n",
       "      <td>Round1</td>\n",
       "      <td>belmac., YT Chaotic Vibez, Twitch.mrzrip</td>\n",
       "      <td>1005</td>\n",
       "      <td>127</td>\n",
       "      <td>10</td>\n",
       "      <td>2</td>\n",
       "      <td>5.70</td>\n",
       "      <td>13.70</td>\n",
       "    </tr>\n",
       "    <tr>\n",
       "      <th>1005</th>\n",
       "      <td>Round1</td>\n",
       "      <td>7F Eternal 鬼, Twitch FibrFN, Squill ϟ</td>\n",
       "      <td>1006</td>\n",
       "      <td>127</td>\n",
       "      <td>9</td>\n",
       "      <td>2</td>\n",
       "      <td>4.56</td>\n",
       "      <td>13.56</td>\n",
       "    </tr>\n",
       "    <tr>\n",
       "      <th>1006</th>\n",
       "      <td>Round1</td>\n",
       "      <td>Κickster, Nolanꓐ, SоIo.</td>\n",
       "      <td>1007</td>\n",
       "      <td>127</td>\n",
       "      <td>9</td>\n",
       "      <td>2</td>\n",
       "      <td>4.44</td>\n",
       "      <td>12.22</td>\n",
       "    </tr>\n",
       "    <tr>\n",
       "      <th>1007</th>\n",
       "      <td>Round1</td>\n",
       "      <td>onsighty, Εxtii ツ, glen ay лол</td>\n",
       "      <td>1008</td>\n",
       "      <td>127</td>\n",
       "      <td>10</td>\n",
       "      <td>2</td>\n",
       "      <td>4.40</td>\n",
       "      <td>15.00</td>\n",
       "    </tr>\n",
       "    <tr>\n",
       "      <th>...</th>\n",
       "      <td>...</td>\n",
       "      <td>...</td>\n",
       "      <td>...</td>\n",
       "      <td>...</td>\n",
       "      <td>...</td>\n",
       "      <td>...</td>\n",
       "      <td>...</td>\n",
       "      <td>...</td>\n",
       "    </tr>\n",
       "    <tr>\n",
       "      <th>11341</th>\n",
       "      <td>Round3</td>\n",
       "      <td>Cоmmandment, LOWGROUND KING7, NRG Edgey</td>\n",
       "      <td>42</td>\n",
       "      <td>107</td>\n",
       "      <td>9</td>\n",
       "      <td>0</td>\n",
       "      <td>4.89</td>\n",
       "      <td>13.00</td>\n",
       "    </tr>\n",
       "    <tr>\n",
       "      <th>11342</th>\n",
       "      <td>Round3</td>\n",
       "      <td>chuice fan fee, JABBIVerstehen, sebiwnl</td>\n",
       "      <td>43</td>\n",
       "      <td>107</td>\n",
       "      <td>7</td>\n",
       "      <td>0</td>\n",
       "      <td>4.14</td>\n",
       "      <td>7.14</td>\n",
       "    </tr>\n",
       "    <tr>\n",
       "      <th>11557</th>\n",
       "      <td>Round4</td>\n",
       "      <td>BBG Bucke, BBG Khanasty, MackWood1x.</td>\n",
       "      <td>9</td>\n",
       "      <td>74</td>\n",
       "      <td>3</td>\n",
       "      <td>1</td>\n",
       "      <td>4.67</td>\n",
       "      <td>7.00</td>\n",
       "    </tr>\n",
       "    <tr>\n",
       "      <th>11558</th>\n",
       "      <td>Round4</td>\n",
       "      <td>pure osp, Bully is all in, фрист C9</td>\n",
       "      <td>10</td>\n",
       "      <td>73</td>\n",
       "      <td>6</td>\n",
       "      <td>0</td>\n",
       "      <td>3.17</td>\n",
       "      <td>16.17</td>\n",
       "    </tr>\n",
       "    <tr>\n",
       "      <th>11559</th>\n",
       "      <td>Round4</td>\n",
       "      <td>AdrianQT on yt, Arkive8, Сlamps</td>\n",
       "      <td>11</td>\n",
       "      <td>73</td>\n",
       "      <td>6</td>\n",
       "      <td>0</td>\n",
       "      <td>2.67</td>\n",
       "      <td>14.50</td>\n",
       "    </tr>\n",
       "  </tbody>\n",
       "</table>\n",
       "<p>1537 rows × 8 columns</p>\n",
       "</div>"
      ],
      "text/plain": [
       "        stage                                     players round_placement  \\\n",
       "1003   Round1  Twitch AyisFN, TwitchSummerzzFN, boasterrr            1004   \n",
       "1004   Round1    belmac., YT Chaotic Vibez, Twitch.mrzrip            1005   \n",
       "1005   Round1       7F Eternal 鬼, Twitch FibrFN, Squill ϟ            1006   \n",
       "1006   Round1                     Κickster, Nolanꓐ, SоIo.            1007   \n",
       "1007   Round1              onsighty, Εxtii ツ, glen ay лол            1008   \n",
       "...       ...                                         ...             ...   \n",
       "11341  Round3     Cоmmandment, LOWGROUND KING7, NRG Edgey              42   \n",
       "11342  Round3     chuice fan fee, JABBIVerstehen, sebiwnl              43   \n",
       "11557  Round4        BBG Bucke, BBG Khanasty, MackWood1x.               9   \n",
       "11558  Round4         pure osp, Bully is all in, фрист C9              10   \n",
       "11559  Round4             AdrianQT on yt, Arkive8, Сlamps              11   \n",
       "\n",
       "      points matches wins  avg_elims  avg_place  \n",
       "1003     127       8    2       8.88      16.63  \n",
       "1004     127      10    2       5.70      13.70  \n",
       "1005     127       9    2       4.56      13.56  \n",
       "1006     127       9    2       4.44      12.22  \n",
       "1007     127      10    2       4.40      15.00  \n",
       "...      ...     ...  ...        ...        ...  \n",
       "11341    107       9    0       4.89      13.00  \n",
       "11342    107       7    0       4.14       7.14  \n",
       "11557     74       3    1       4.67       7.00  \n",
       "11558     73       6    0       3.17      16.17  \n",
       "11559     73       6    0       2.67      14.50  \n",
       "\n",
       "[1537 rows x 8 columns]"
      ]
     },
     "execution_count": 8,
     "metadata": {},
     "output_type": "execute_result"
    }
   ],
   "source": [
    "marginal"
   ]
  },
  {
   "cell_type": "code",
   "execution_count": 22,
   "id": "destroyed-roads",
   "metadata": {
    "ExecuteTime": {
     "end_time": "2021-02-16T14:24:12.418538Z",
     "start_time": "2021-02-16T14:24:12.405054Z"
    }
   },
   "outputs": [],
   "source": [
    "quals = pd.DataFrame()\n",
    "quals['teams'] = marginal.players.unique()\n",
    "quals['r2_qual'] = False\n",
    "quals['r3_qual'] = False\n",
    "quals['r4_qual'] = False\n",
    "quals['r5_qual'] = False"
   ]
  },
  {
   "cell_type": "code",
   "execution_count": null,
   "id": "juvenile-hardware",
   "metadata": {},
   "outputs": [],
   "source": [
    "# checking marginal teams to see if they qualified for next round\n",
    "for i, row in track(marginal.iterrows()):\n",
    "    temp = df[df.stage == row.stage + 1]  # checks next round/stage\n",
    "    if "
   ]
  },
  {
   "cell_type": "code",
   "execution_count": 19,
   "id": "christian-speaking",
   "metadata": {
    "ExecuteTime": {
     "end_time": "2021-02-16T14:23:00.010781Z",
     "start_time": "2021-02-16T14:22:59.940002Z"
    }
   },
   "outputs": [
    {
     "data": {
      "text/html": [
       "<pre style=\"white-space:pre;overflow-x:auto;line-height:normal;font-family:Menlo,'DejaVu Sans Mono',consolas,'Courier New',monospace\">       stage                              players round_placement points  \\\n",
       "<span style=\"color: #000080; font-weight: bold\">1008</span>  Round1  Bravo FN YT, Nosn yt, Youtube Uviik            <span style=\"color: #000080; font-weight: bold\">1009</span>    <span style=\"color: #000080; font-weight: bold\">127</span>   \n",
       "\n",
       "     matches wins  avg_elims  avg_place  \n",
       "<span style=\"color: #000080; font-weight: bold\">1008</span>      <span style=\"color: #000080; font-weight: bold\">10</span>    <span style=\"color: #000080; font-weight: bold\">2</span>        <span style=\"color: #000080; font-weight: bold\">4.3</span>       <span style=\"color: #000080; font-weight: bold\">13.7</span>  \n",
       "</pre>\n"
      ],
      "text/plain": [
       "<rich.jupyter.JupyterRenderable at 0x7fb929763fd0>"
      ]
     },
     "metadata": {},
     "output_type": "display_data"
    },
    {
     "data": {
      "text/html": [
       "<pre style=\"white-space:pre;overflow-x:auto;line-height:normal;font-family:Menlo,'DejaVu Sans Mono',consolas,'Courier New',monospace\">       stage                                   players round_placement points  \\\n",
       "<span style=\"color: #000080; font-weight: bold\">1009</span>  Round1  slend ب, bestsnipernae, chuun on youtube            <span style=\"color: #000080; font-weight: bold\">1010</span>    <span style=\"color: #000080; font-weight: bold\">127</span>   \n",
       "\n",
       "     matches wins  avg_elims  avg_place  \n",
       "<span style=\"color: #000080; font-weight: bold\">1009</span>      <span style=\"color: #000080; font-weight: bold\">10</span>    <span style=\"color: #000080; font-weight: bold\">2</span>        <span style=\"color: #000080; font-weight: bold\">4.3</span>       <span style=\"color: #000080; font-weight: bold\">14.5</span>  \n",
       "</pre>\n"
      ],
      "text/plain": [
       "<rich.jupyter.JupyterRenderable at 0x7fb8c8010820>"
      ]
     },
     "metadata": {},
     "output_type": "display_data"
    },
    {
     "data": {
      "text/html": [
       "<pre style=\"white-space:pre;overflow-x:auto;line-height:normal;font-family:Menlo,'DejaVu Sans Mono',consolas,'Courier New',monospace\">       stage                                     players round_placement  \\\n",
       "<span style=\"color: #000080; font-weight: bold\">1010</span>  Round1  Twitch APSanta, Madelyn Warner, tv.sirsmog            <span style=\"color: #000080; font-weight: bold\">1011</span>   \n",
       "\n",
       "     points matches wins  avg_elims  avg_place  \n",
       "<span style=\"color: #000080; font-weight: bold\">1010</span>    <span style=\"color: #000080; font-weight: bold\">127</span>      <span style=\"color: #000080; font-weight: bold\">10</span>    <span style=\"color: #000080; font-weight: bold\">2</span>        <span style=\"color: #000080; font-weight: bold\">4.3</span>       <span style=\"color: #000080; font-weight: bold\">15.1</span>  \n",
       "</pre>\n"
      ],
      "text/plain": [
       "<rich.jupyter.JupyterRenderable at 0x7fb8c800cd60>"
      ]
     },
     "metadata": {},
     "output_type": "display_data"
    },
    {
     "data": {
      "text/html": [
       "<pre style=\"white-space:pre;overflow-x:auto;line-height:normal;font-family:Menlo,'DejaVu Sans Mono',consolas,'Courier New',monospace\">       stage                        players round_placement points matches  \\\n",
       "<span style=\"color: #000080; font-weight: bold\">1011</span>  Round1  ramzoh ẋ, tazed ẋ, vulcanoh ẋ            <span style=\"color: #000080; font-weight: bold\">1012</span>    <span style=\"color: #000080; font-weight: bold\">127</span>       <span style=\"color: #000080; font-weight: bold\">8</span>   \n",
       "\n",
       "     wins  avg_elims  avg_place  \n",
       "<span style=\"color: #000080; font-weight: bold\">1011</span>    <span style=\"color: #000080; font-weight: bold\">2</span>       <span style=\"color: #000080; font-weight: bold\">4.13</span>       <span style=\"color: #000080; font-weight: bold\">9.38</span>  \n",
       "</pre>\n"
      ],
      "text/plain": [
       "<rich.jupyter.JupyterRenderable at 0x7fb929763fd0>"
      ]
     },
     "metadata": {},
     "output_type": "display_data"
    },
    {
     "data": {
      "text/html": [
       "<pre style=\"white-space:pre;overflow-x:auto;line-height:normal;font-family:Menlo,'DejaVu Sans Mono',consolas,'Courier New',monospace\">       stage                        players round_placement points matches  \\\n",
       "<span style=\"color: #000080; font-weight: bold\">1012</span>  Round1  Krum on SARMS, yt srfn, Alfaψ            <span style=\"color: #000080; font-weight: bold\">1013</span>    <span style=\"color: #000080; font-weight: bold\">127</span>      <span style=\"color: #000080; font-weight: bold\">10</span>   \n",
       "\n",
       "     wins  avg_elims  avg_place  \n",
       "<span style=\"color: #000080; font-weight: bold\">1012</span>    <span style=\"color: #000080; font-weight: bold\">2</span>        <span style=\"color: #000080; font-weight: bold\">3.6</span>       <span style=\"color: #000080; font-weight: bold\">12.7</span>  \n",
       "</pre>\n"
      ],
      "text/plain": [
       "<rich.jupyter.JupyterRenderable at 0x7fb8c800c940>"
      ]
     },
     "metadata": {},
     "output_type": "display_data"
    },
    {
     "data": {
      "text/html": [
       "<pre style=\"white-space:pre;overflow-x:auto;line-height:normal;font-family:Menlo,'DejaVu Sans Mono',consolas,'Courier New',monospace\">       stage                           players round_placement points matches  \\\n",
       "<span style=\"color: #000080; font-weight: bold\">1013</span>  Round1  DK Wolfe, NTNS TAYZ, DK MoutMout            <span style=\"color: #000080; font-weight: bold\">1014</span>    <span style=\"color: #000080; font-weight: bold\">127</span>       <span style=\"color: #000080; font-weight: bold\">9</span>   \n",
       "\n",
       "     wins  avg_elims  avg_place  \n",
       "<span style=\"color: #000080; font-weight: bold\">1013</span>    <span style=\"color: #000080; font-weight: bold\">1</span>       <span style=\"color: #000080; font-weight: bold\">6.89</span>      <span style=\"color: #000080; font-weight: bold\">16.44</span>  \n",
       "</pre>\n"
      ],
      "text/plain": [
       "<rich.jupyter.JupyterRenderable at 0x7fb929763fd0>"
      ]
     },
     "metadata": {},
     "output_type": "display_data"
    },
    {
     "data": {
      "text/html": [
       "<pre style=\"white-space:pre;overflow-x:auto;line-height:normal;font-family:Menlo,'DejaVu Sans Mono',consolas,'Courier New',monospace\">        stage                       players round_placement points matches  \\\n",
       "<span style=\"color: #000080; font-weight: bold\">1014</span>   Round1  Thumpith, DANTH3MON, NlCKMON            <span style=\"color: #000080; font-weight: bold\">1015</span>    <span style=\"color: #000080; font-weight: bold\">127</span>      <span style=\"color: #000080; font-weight: bold\">10</span>   \n",
       "<span style=\"color: #000080; font-weight: bold\">10107</span>  Round2  Thumpith, DANTH3MON, NlCKMON             <span style=\"color: #000080; font-weight: bold\">208</span>    <span style=\"color: #000080; font-weight: bold\">107</span>       <span style=\"color: #000080; font-weight: bold\">8</span>   \n",
       "\n",
       "      wins  avg_elims  avg_place  \n",
       "<span style=\"color: #000080; font-weight: bold\">1014</span>     <span style=\"color: #000080; font-weight: bold\">1</span>       <span style=\"color: #000080; font-weight: bold\">6.60</span>       <span style=\"color: #000080; font-weight: bold\">14.7</span>  \n",
       "<span style=\"color: #000080; font-weight: bold\">10107</span>    <span style=\"color: #000080; font-weight: bold\">1</span>       <span style=\"color: #000080; font-weight: bold\">4.13</span>       <span style=\"color: #000080; font-weight: bold\">11.5</span>  \n",
       "</pre>\n"
      ],
      "text/plain": [
       "<rich.jupyter.JupyterRenderable at 0x7fb8c800cd60>"
      ]
     },
     "metadata": {},
     "output_type": "display_data"
    },
    {
     "data": {
      "text/html": [
       "<pre style=\"white-space:pre;overflow-x:auto;line-height:normal;font-family:Menlo,'DejaVu Sans Mono',consolas,'Courier New',monospace\">       stage             players round_placement points matches wins  \\\n",
       "<span style=\"color: #000080; font-weight: bold\">1015</span>  Round1  guga ӝ, Zigzゖ, Dаt            <span style=\"color: #000080; font-weight: bold\">1016</span>    <span style=\"color: #000080; font-weight: bold\">127</span>       <span style=\"color: #000080; font-weight: bold\">8</span>    <span style=\"color: #000080; font-weight: bold\">1</span>   \n",
       "\n",
       "      avg_elims  avg_place  \n",
       "<span style=\"color: #000080; font-weight: bold\">1015</span>       <span style=\"color: #000080; font-weight: bold\">6.38</span>      <span style=\"color: #000080; font-weight: bold\">10.63</span>  \n",
       "</pre>\n"
      ],
      "text/plain": [
       "<rich.jupyter.JupyterRenderable at 0x7fb929763fd0>"
      ]
     },
     "metadata": {},
     "output_type": "display_data"
    },
    {
     "data": {
      "text/html": [
       "<pre style=\"white-space:pre;overflow-x:auto;line-height:normal;font-family:Menlo,'DejaVu Sans Mono',consolas,'Courier New',monospace\">       stage                                     players round_placement  \\\n",
       "<span style=\"color: #000080; font-weight: bold\">1016</span>  Round1  archsenpailol.tv, thirst softaims, teeqs 父            <span style=\"color: #000080; font-weight: bold\">1017</span>   \n",
       "\n",
       "     points matches wins  avg_elims  avg_place  \n",
       "<span style=\"color: #000080; font-weight: bold\">1016</span>    <span style=\"color: #000080; font-weight: bold\">127</span>       <span style=\"color: #000080; font-weight: bold\">8</span>    <span style=\"color: #000080; font-weight: bold\">1</span>       <span style=\"color: #000080; font-weight: bold\">6.25</span>      <span style=\"color: #000080; font-weight: bold\">10.63</span>  \n",
       "</pre>\n"
      ],
      "text/plain": [
       "<rich.jupyter.JupyterRenderable at 0x7fb8c800c940>"
      ]
     },
     "metadata": {},
     "output_type": "display_data"
    },
    {
     "data": {
      "text/html": [
       "<pre style=\"white-space:pre;overflow-x:auto;line-height:normal;font-family:Menlo,'DejaVu Sans Mono',consolas,'Courier New',monospace\">       stage                                       players round_placement  \\\n",
       "<span style=\"color: #000080; font-weight: bold\">1017</span>  Round1  LoomFN on YT, YouTube Tacts FN, Holy Jun3yur            <span style=\"color: #000080; font-weight: bold\">1018</span>   \n",
       "\n",
       "     points matches wins  avg_elims  avg_place  \n",
       "<span style=\"color: #000080; font-weight: bold\">1017</span>    <span style=\"color: #000080; font-weight: bold\">127</span>       <span style=\"color: #000080; font-weight: bold\">9</span>    <span style=\"color: #000080; font-weight: bold\">1</span>       <span style=\"color: #000080; font-weight: bold\">6.11</span>       <span style=\"color: #000080; font-weight: bold\">14.0</span>  \n",
       "</pre>\n"
      ],
      "text/plain": [
       "<rich.jupyter.JupyterRenderable at 0x7fb929763fd0>"
      ]
     },
     "metadata": {},
     "output_type": "display_data"
    }
   ],
   "source": [
    "\n",
    "for team in quals.teams.values[5:15]:\n",
    "    temp = marginal[marginal.players == team]\n",
    "    stages = temp.stage.values\n",
    "    if 'Round2' in stages:\n",
    "        team.r2_qual = True\n",
    "    if 'Round3' in stages:\n",
    "        team.r3_qual = True\n",
    "    if 'Round4' in stages:\n",
    "        team.r4_qual = True\n",
    "        \n",
    "    "
   ]
  },
  {
   "cell_type": "code",
   "execution_count": null,
   "id": "three-immunology",
   "metadata": {},
   "outputs": [],
   "source": []
  },
  {
   "cell_type": "code",
   "execution_count": null,
   "id": "looking-gibraltar",
   "metadata": {},
   "outputs": [],
   "source": []
  },
  {
   "cell_type": "code",
   "execution_count": null,
   "id": "contrary-remove",
   "metadata": {},
   "outputs": [],
   "source": []
  },
  {
   "cell_type": "code",
   "execution_count": null,
   "id": "generic-purchase",
   "metadata": {},
   "outputs": [],
   "source": []
  },
  {
   "cell_type": "code",
   "execution_count": null,
   "id": "composite-hawaii",
   "metadata": {},
   "outputs": [],
   "source": []
  },
  {
   "cell_type": "code",
   "execution_count": 9,
   "id": "joint-eating",
   "metadata": {
    "ExecuteTime": {
     "end_time": "2021-02-16T14:01:08.748938Z",
     "start_time": "2021-02-16T14:01:08.740116Z"
    }
   },
   "outputs": [],
   "source": [
    "@dataclass\n",
    "class Stage:\n",
    "    place: int\n",
    "    points: int\n",
    "    \n",
    "@dataclass\n",
    "class Results:\n",
    "    stage1: Stage\n",
    "    stage2: Stage\n",
    "    stage3: Stage\n",
    "    stage4: Stage\n",
    "\n",
    "@dataclass\n",
    "class Team:\n",
    "    name: str\n",
    "    results: Results\n",
    "        \n",
    "    @property\n",
    "    def players(self):\n",
    "        return [name.strip() for name in self.name.split(',')]\n"
   ]
  },
  {
   "cell_type": "code",
   "execution_count": 10,
   "id": "excessive-anderson",
   "metadata": {
    "ExecuteTime": {
     "end_time": "2021-02-16T14:01:09.164811Z",
     "start_time": "2021-02-16T14:01:09.080004Z"
    },
    "scrolled": false
   },
   "outputs": [
    {
     "data": {
      "text/plain": [
       "[Team(name='bbg permreo, XTRA Illest, C9 Avery', results=Results(stage1=Stage(place=None, points=None), stage2=Stage(place=None, points=None), stage3=Stage(place=None, points=None), stage4=Stage(place=None, points=None))),\n",
       " Team(name='Cоmmandment, LOWGROUND KING7, NRG Edgey', results=Results(stage1=Stage(place=None, points=None), stage2=Stage(place=None, points=None), stage3=Stage(place=None, points=None), stage4=Stage(place=None, points=None))),\n",
       " Team(name='Zûky, fаtch, chukky ackerman', results=Results(stage1=Stage(place=None, points=None), stage2=Stage(place=None, points=None), stage3=Stage(place=None, points=None), stage4=Stage(place=None, points=None))),\n",
       " Team(name='SEN VALENSPECT, LG Xoonies., npen', results=Results(stage1=Stage(place=None, points=None), stage2=Stage(place=None, points=None), stage3=Stage(place=None, points=None), stage4=Stage(place=None, points=None))),\n",
       " Team(name='AKA Avivv, Trаshу, DT Rise', results=Results(stage1=Stage(place=None, points=None), stage2=Stage(place=None, points=None), stage3=Stage(place=None, points=None), stage4=Stage(place=None, points=None)))]"
      ]
     },
     "execution_count": 10,
     "metadata": {},
     "output_type": "execute_result"
    }
   ],
   "source": [
    "teams = [\n",
    "    Team(\n",
    "        name=players,\n",
    "        results=Results(\n",
    "            stage1=Stage(None,None),\n",
    "            stage2=Stage(None,None),\n",
    "            stage3=Stage(None,None),\n",
    "            stage4=Stage(None,None)\n",
    "        )\n",
    "    ) for players in df.players.unique()\n",
    "]\n",
    "teams[:5]"
   ]
  },
  {
   "cell_type": "code",
   "execution_count": 11,
   "id": "shared-isolation",
   "metadata": {
    "ExecuteTime": {
     "end_time": "2021-02-16T14:01:58.854623Z",
     "start_time": "2021-02-16T14:01:10.094785Z"
    }
   },
   "outputs": [
    {
     "data": {
      "application/vnd.jupyter.widget-view+json": {
       "model_id": "bafb4f4c49f840c8b08c6596c1e22dca",
       "version_major": 2,
       "version_minor": 0
      },
      "text/plain": [
       "Output()"
      ]
     },
     "metadata": {},
     "output_type": "display_data"
    }
   ],
   "source": [
    "for team in track(teams):\n",
    "    sampled = df[df.players == team.name]\n",
    "    for i, row in sampled.iterrows():\n",
    "        if row.stage == 'Round1':\n",
    "            team.results.stage1.place = row.round_placement\n",
    "            team.results.stage1.points = row.points\n",
    "        elif row.stage == 'Round2':\n",
    "            team.results.stage2.place = row.round_placement\n",
    "            team.results.stage2.points = row.points\n",
    "        elif row.stage == 'Round3':\n",
    "            team.results.stage3.place = row.round_placement\n",
    "            team.results.stage3.points = row.points\n",
    "        elif row.stage == 'Round4':\n",
    "            team.results.stage4.place = row.round_placement\n",
    "            team.results.stage4.points = row.points"
   ]
  },
  {
   "cell_type": "code",
   "execution_count": 12,
   "id": "educated-engineer",
   "metadata": {
    "ExecuteTime": {
     "end_time": "2021-02-16T14:01:59.003130Z",
     "start_time": "2021-02-16T14:01:58.993887Z"
    },
    "scrolled": true
   },
   "outputs": [
    {
     "data": {
      "text/html": [
       "<pre style=\"white-space:pre;overflow-x:auto;line-height:normal;font-family:Menlo,'DejaVu Sans Mono',consolas,'Courier New',monospace\">Team<span style=\"font-weight: bold\">(</span><span style=\"color: #808000\">name</span>=<span style=\"color: #008000\">'bbg permreo, XTRA Illest, C9 Avery'</span>, <span style=\"color: #808000\">results</span>=<span style=\"color: #800080\">Results</span><span style=\"font-weight: bold\">(</span><span style=\"color: #808000\">stage1</span>=<span style=\"color: #800080\">Stage</span><span style=\"font-weight: bold\">(</span><span style=\"color: #808000\">place</span>=<span style=\"color: #000080; font-weight: bold\">1</span>, \n",
       "<span style=\"color: #808000\">points</span>=<span style=\"color: #000080; font-weight: bold\">243</span><span style=\"font-weight: bold\">)</span>, <span style=\"color: #808000\">stage2</span>=<span style=\"color: #800080\">Stage</span><span style=\"font-weight: bold\">(</span><span style=\"color: #808000\">place</span>=<span style=\"color: #000080; font-weight: bold\">9</span>, <span style=\"color: #808000\">points</span>=<span style=\"color: #000080; font-weight: bold\">155</span><span style=\"font-weight: bold\">)</span>, <span style=\"color: #808000\">stage3</span>=<span style=\"color: #800080\">Stage</span><span style=\"font-weight: bold\">(</span><span style=\"color: #808000\">place</span>=<span style=\"color: #000080; font-weight: bold\">40</span>, <span style=\"color: #808000\">points</span>=<span style=\"color: #000080; font-weight: bold\">108</span><span style=\"font-weight: bold\">)</span>, \n",
       "<span style=\"color: #808000\">stage4</span>=<span style=\"color: #800080\">Stage</span><span style=\"font-weight: bold\">(</span><span style=\"color: #808000\">place</span>=<span style=\"color: #800080; font-style: italic\">None</span>, <span style=\"color: #808000\">points</span>=<span style=\"color: #800080; font-style: italic\">None</span><span style=\"font-weight: bold\">)))</span>\n",
       "</pre>\n"
      ],
      "text/plain": [
       "<rich.jupyter.JupyterRenderable at 0x7fe122c73910>"
      ]
     },
     "metadata": {},
     "output_type": "display_data"
    },
    {
     "data": {
      "text/html": [
       "<pre style=\"white-space:pre;overflow-x:auto;line-height:normal;font-family:Menlo,'DejaVu Sans Mono',consolas,'Courier New',monospace\">Team<span style=\"font-weight: bold\">(</span><span style=\"color: #808000\">name</span>=<span style=\"color: #008000\">'Cоmmandment, LOWGROUND KING7, NRG Edgey'</span>, <span style=\"color: #808000\">results</span>=<span style=\"color: #800080\">Results</span><span style=\"font-weight: bold\">(</span><span style=\"color: #808000\">stage1</span>=<span style=\"color: #800080\">Stage</span><span style=\"font-weight: bold\">(</span><span style=\"color: #808000\">place</span>=<span style=\"color: #000080; font-weight: bold\">2</span>, \n",
       "<span style=\"color: #808000\">points</span>=<span style=\"color: #000080; font-weight: bold\">239</span><span style=\"font-weight: bold\">)</span>, <span style=\"color: #808000\">stage2</span>=<span style=\"color: #800080\">Stage</span><span style=\"font-weight: bold\">(</span><span style=\"color: #808000\">place</span>=<span style=\"color: #000080; font-weight: bold\">14</span>, <span style=\"color: #808000\">points</span>=<span style=\"color: #000080; font-weight: bold\">147</span><span style=\"font-weight: bold\">)</span>, <span style=\"color: #808000\">stage3</span>=<span style=\"color: #800080\">Stage</span><span style=\"font-weight: bold\">(</span><span style=\"color: #808000\">place</span>=<span style=\"color: #000080; font-weight: bold\">42</span>, <span style=\"color: #808000\">points</span>=<span style=\"color: #000080; font-weight: bold\">107</span><span style=\"font-weight: bold\">)</span>, \n",
       "<span style=\"color: #808000\">stage4</span>=<span style=\"color: #800080\">Stage</span><span style=\"font-weight: bold\">(</span><span style=\"color: #808000\">place</span>=<span style=\"color: #800080; font-style: italic\">None</span>, <span style=\"color: #808000\">points</span>=<span style=\"color: #800080; font-style: italic\">None</span><span style=\"font-weight: bold\">)))</span>\n",
       "</pre>\n"
      ],
      "text/plain": [
       "<rich.jupyter.JupyterRenderable at 0x7fe15070bca0>"
      ]
     },
     "metadata": {},
     "output_type": "display_data"
    },
    {
     "data": {
      "text/html": [
       "<pre style=\"white-space:pre;overflow-x:auto;line-height:normal;font-family:Menlo,'DejaVu Sans Mono',consolas,'Courier New',monospace\">Team<span style=\"font-weight: bold\">(</span><span style=\"color: #808000\">name</span>=<span style=\"color: #008000\">'Zûky, fаtch, chukky ackerman'</span>, <span style=\"color: #808000\">results</span>=<span style=\"color: #800080\">Results</span><span style=\"font-weight: bold\">(</span><span style=\"color: #808000\">stage1</span>=<span style=\"color: #800080\">Stage</span><span style=\"font-weight: bold\">(</span><span style=\"color: #808000\">place</span>=<span style=\"color: #000080; font-weight: bold\">3</span>, <span style=\"color: #808000\">points</span>=<span style=\"color: #000080; font-weight: bold\">216</span><span style=\"font-weight: bold\">)</span>, \n",
       "<span style=\"color: #808000\">stage2</span>=<span style=\"color: #800080\">Stage</span><span style=\"font-weight: bold\">(</span><span style=\"color: #808000\">place</span>=<span style=\"color: #000080; font-weight: bold\">7</span>, <span style=\"color: #808000\">points</span>=<span style=\"color: #000080; font-weight: bold\">162</span><span style=\"font-weight: bold\">)</span>, <span style=\"color: #808000\">stage3</span>=<span style=\"color: #800080\">Stage</span><span style=\"font-weight: bold\">(</span><span style=\"color: #808000\">place</span>=<span style=\"color: #000080; font-weight: bold\">31</span>, <span style=\"color: #808000\">points</span>=<span style=\"color: #000080; font-weight: bold\">112</span><span style=\"font-weight: bold\">)</span>, <span style=\"color: #808000\">stage4</span>=<span style=\"color: #800080\">Stage</span><span style=\"font-weight: bold\">(</span><span style=\"color: #808000\">place</span>=<span style=\"color: #000080; font-weight: bold\">8</span>, \n",
       "<span style=\"color: #808000\">points</span>=<span style=\"color: #000080; font-weight: bold\">87</span><span style=\"font-weight: bold\">)))</span>\n",
       "</pre>\n"
      ],
      "text/plain": [
       "<rich.jupyter.JupyterRenderable at 0x7fe120cc3520>"
      ]
     },
     "metadata": {},
     "output_type": "display_data"
    },
    {
     "data": {
      "text/html": [
       "<pre style=\"white-space:pre;overflow-x:auto;line-height:normal;font-family:Menlo,'DejaVu Sans Mono',consolas,'Courier New',monospace\">Team<span style=\"font-weight: bold\">(</span><span style=\"color: #808000\">name</span>=<span style=\"color: #008000\">'SEN VALENSPECT, LG Xoonies., npen'</span>, <span style=\"color: #808000\">results</span>=<span style=\"color: #800080\">Results</span><span style=\"font-weight: bold\">(</span><span style=\"color: #808000\">stage1</span>=<span style=\"color: #800080\">Stage</span><span style=\"font-weight: bold\">(</span><span style=\"color: #808000\">place</span>=<span style=\"color: #000080; font-weight: bold\">4</span>, \n",
       "<span style=\"color: #808000\">points</span>=<span style=\"color: #000080; font-weight: bold\">203</span><span style=\"font-weight: bold\">)</span>, <span style=\"color: #808000\">stage2</span>=<span style=\"color: #800080\">Stage</span><span style=\"font-weight: bold\">(</span><span style=\"color: #808000\">place</span>=<span style=\"color: #000080; font-weight: bold\">81</span>, <span style=\"color: #808000\">points</span>=<span style=\"color: #000080; font-weight: bold\">122</span><span style=\"font-weight: bold\">)</span>, <span style=\"color: #808000\">stage3</span>=<span style=\"color: #800080\">Stage</span><span style=\"font-weight: bold\">(</span><span style=\"color: #808000\">place</span>=<span style=\"color: #000080; font-weight: bold\">14</span>, <span style=\"color: #808000\">points</span>=<span style=\"color: #000080; font-weight: bold\">131</span><span style=\"font-weight: bold\">)</span>, \n",
       "<span style=\"color: #808000\">stage4</span>=<span style=\"color: #800080\">Stage</span><span style=\"font-weight: bold\">(</span><span style=\"color: #808000\">place</span>=<span style=\"color: #000080; font-weight: bold\">6</span>, <span style=\"color: #808000\">points</span>=<span style=\"color: #000080; font-weight: bold\">91</span><span style=\"font-weight: bold\">)))</span>\n",
       "</pre>\n"
      ],
      "text/plain": [
       "<rich.jupyter.JupyterRenderable at 0x7fe1407825b0>"
      ]
     },
     "metadata": {},
     "output_type": "display_data"
    },
    {
     "data": {
      "text/html": [
       "<pre style=\"white-space:pre;overflow-x:auto;line-height:normal;font-family:Menlo,'DejaVu Sans Mono',consolas,'Courier New',monospace\">Team<span style=\"font-weight: bold\">(</span><span style=\"color: #808000\">name</span>=<span style=\"color: #008000\">'AKA Avivv, Trаshу, DT Rise'</span>, <span style=\"color: #808000\">results</span>=<span style=\"color: #800080\">Results</span><span style=\"font-weight: bold\">(</span><span style=\"color: #808000\">stage1</span>=<span style=\"color: #800080\">Stage</span><span style=\"font-weight: bold\">(</span><span style=\"color: #808000\">place</span>=<span style=\"color: #000080; font-weight: bold\">5</span>, <span style=\"color: #808000\">points</span>=<span style=\"color: #000080; font-weight: bold\">200</span><span style=\"font-weight: bold\">)</span>, \n",
       "<span style=\"color: #808000\">stage2</span>=<span style=\"color: #800080\">Stage</span><span style=\"font-weight: bold\">(</span><span style=\"color: #808000\">place</span>=<span style=\"color: #000080; font-weight: bold\">77</span>, <span style=\"color: #808000\">points</span>=<span style=\"color: #000080; font-weight: bold\">122</span><span style=\"font-weight: bold\">)</span>, <span style=\"color: #808000\">stage3</span>=<span style=\"color: #800080\">Stage</span><span style=\"font-weight: bold\">(</span><span style=\"color: #808000\">place</span>=<span style=\"color: #000080; font-weight: bold\">13</span>, <span style=\"color: #808000\">points</span>=<span style=\"color: #000080; font-weight: bold\">132</span><span style=\"font-weight: bold\">)</span>, <span style=\"color: #808000\">stage4</span>=<span style=\"color: #800080\">Stage</span><span style=\"font-weight: bold\">(</span><span style=\"color: #808000\">place</span>=<span style=\"color: #000080; font-weight: bold\">4</span>,\n",
       "<span style=\"color: #808000\">points</span>=<span style=\"color: #000080; font-weight: bold\">122</span><span style=\"font-weight: bold\">)))</span>\n",
       "</pre>\n"
      ],
      "text/plain": [
       "<rich.jupyter.JupyterRenderable at 0x7fe15070b970>"
      ]
     },
     "metadata": {},
     "output_type": "display_data"
    }
   ],
   "source": [
    "for team in teams[:5]:\n",
    "    print(team)"
   ]
  },
  {
   "cell_type": "code",
   "execution_count": null,
   "id": "inner-joyce",
   "metadata": {},
   "outputs": [],
   "source": []
  },
  {
   "cell_type": "code",
   "execution_count": null,
   "id": "legislative-orange",
   "metadata": {},
   "outputs": [],
   "source": []
  },
  {
   "cell_type": "code",
   "execution_count": null,
   "id": "bibliographic-drove",
   "metadata": {},
   "outputs": [],
   "source": []
  },
  {
   "cell_type": "code",
   "execution_count": null,
   "id": "favorite-royal",
   "metadata": {},
   "outputs": [],
   "source": []
  },
  {
   "cell_type": "code",
   "execution_count": 27,
   "id": "hawaiian-infection",
   "metadata": {
    "ExecuteTime": {
     "end_time": "2021-02-16T14:04:07.976471Z",
     "start_time": "2021-02-16T14:04:07.956073Z"
    }
   },
   "outputs": [
    {
     "data": {
      "text/plain": [
       "33"
      ]
     },
     "execution_count": 27,
     "metadata": {},
     "output_type": "execute_result"
    }
   ],
   "source": [
    "threshold1 = next(team.results.stage1.points for team in teams if team.results.stage1.place == 1500)\n",
    "\n",
    "len([team.name for team in teams if qualified_for_all_stages(team)])"
   ]
  },
  {
   "cell_type": "code",
   "execution_count": null,
   "id": "understood-latvia",
   "metadata": {},
   "outputs": [],
   "source": []
  },
  {
   "cell_type": "code",
   "execution_count": null,
   "id": "objective-actress",
   "metadata": {},
   "outputs": [],
   "source": []
  },
  {
   "cell_type": "code",
   "execution_count": null,
   "id": "minimal-boxing",
   "metadata": {},
   "outputs": [],
   "source": []
  },
  {
   "cell_type": "code",
   "execution_count": 63,
   "id": "finished-bernard",
   "metadata": {
    "ExecuteTime": {
     "end_time": "2021-02-15T02:16:22.477350Z",
     "start_time": "2021-02-15T02:16:22.445919Z"
    }
   },
   "outputs": [
    {
     "data": {
      "text/plain": [
       "7"
      ]
     },
     "execution_count": 63,
     "metadata": {},
     "output_type": "execute_result"
    }
   ],
   "source": [
    "sum(df[(df.stage == 'Round1') & (df.round_placement <= 33)].players.isin(\n",
    "    df[(df.stage == 'Round4') & (df.round_placement <= 33)].players\n",
    "))"
   ]
  },
  {
   "cell_type": "code",
   "execution_count": null,
   "id": "interesting-dancing",
   "metadata": {},
   "outputs": [],
   "source": []
  }
 ],
 "metadata": {
  "hide_input": false,
  "kernelspec": {
   "display_name": "Python 3",
   "language": "python",
   "name": "python3"
  },
  "language_info": {
   "codemirror_mode": {
    "name": "ipython",
    "version": 3
   },
   "file_extension": ".py",
   "mimetype": "text/x-python",
   "name": "python",
   "nbconvert_exporter": "python",
   "pygments_lexer": "ipython3",
   "version": "3.9.1"
  },
  "toc": {
   "base_numbering": 1,
   "nav_menu": {},
   "number_sections": true,
   "sideBar": true,
   "skip_h1_title": false,
   "title_cell": "Table of Contents",
   "title_sidebar": "Contents",
   "toc_cell": false,
   "toc_position": {},
   "toc_section_display": true,
   "toc_window_display": false
  },
  "varInspector": {
   "cols": {
    "lenName": 16,
    "lenType": 16,
    "lenVar": 40
   },
   "kernels_config": {
    "python": {
     "delete_cmd_postfix": "",
     "delete_cmd_prefix": "del ",
     "library": "var_list.py",
     "varRefreshCmd": "print(var_dic_list())"
    },
    "r": {
     "delete_cmd_postfix": ") ",
     "delete_cmd_prefix": "rm(",
     "library": "var_list.r",
     "varRefreshCmd": "cat(var_dic_list()) "
    }
   },
   "types_to_exclude": [
    "module",
    "function",
    "builtin_function_or_method",
    "instance",
    "_Feature"
   ],
   "window_display": false
  }
 },
 "nbformat": 4,
 "nbformat_minor": 5
}
